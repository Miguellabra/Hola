{
 "cells": [
  {
   "cell_type": "code",
   "execution_count": 1,
   "metadata": {},
   "outputs": [
    {
     "data": {
      "text/latex": [
       "$$x{\\left (t \\right )} = C_{1} e^{\\frac{t^{2}}{2}} - 3$$"
      ],
      "text/plain": [
       "            2    \n",
       "           t     \n",
       "           ──    \n",
       "           2     \n",
       "x(t) = C₁⋅ℯ   - 3"
      ]
     },
     "execution_count": 1,
     "metadata": {},
     "output_type": "execute_result"
    }
   ],
   "source": [
    "import sympy\n",
    "sympy.init_printing(use_latex='mathjax')\n",
    "t = sympy.Symbol('t')\n",
    "x = sympy.Function('x')\n",
    "\n",
    "f = 3*t + t*(x(t))\n",
    "\n",
    "#Re=sympy.Eq(x(t).diff(t),f)\n",
    "#print(\\n\"Resolver la EDO\",sympy.Eq(x(t).diff(t),f))\n",
    "Sol = sympy.dsolve(x(t).diff(t)-f)\n",
    "Sol\n",
    "#sympy.pprint(Sol)"
   ]
  },
  {
   "cell_type": "code",
   "execution_count": 2,
   "metadata": {},
   "outputs": [
    {
     "data": {
      "image/png": "[encoded data removed]",
      "text/latex": [
       "$$- \\frac{25 \\cos{\\left (25 \\right )}}{8 \\Gamma{\\left(\\frac{9}{4} \\right)}} \\Gamma{\\left(\\frac{5}{4} \\right)} + \\frac{5 \\sqrt{2} \\sqrt{\\pi} C\\left(\\frac{5 \\sqrt{2}}{\\sqrt{\\pi}}\\right)}{16 \\Gamma{\\left(\\frac{9}{4} \\right)}} \\Gamma{\\left(\\frac{5}{4} \\right)}$$"
      ],
      "text/plain": [
       "                                      ⎛5⋅√2⎞       \n",
       "                      5⋅√2⋅√π⋅fresnelc⎜────⎟⋅Γ(5/4)\n",
       "  25⋅cos(25)⋅Γ(5/4)                   ⎝ √π ⎠       \n",
       "- ───────────────── + ─────────────────────────────\n",
       "       8⋅Γ(9/4)                 16⋅Γ(9/4)          "
      ]
     },
     "execution_count": 2,
     "metadata": {},
     "output_type": "execute_result"
    }
   ],
   "source": [
    "import sympy as sp\n",
    "from sympy import*\n",
    "sp.init_printing()\n",
    "\n",
    "x = Symbol('x')\n",
    "f = x**2 * sp.sin(x**2)\n",
    "g = sp.integrate(f,(x,0,5))\n",
    "g\n",
    "#print(\"\\nLa integral de\",g)\n",
    "#sp.pprint(g)"
   ]
  },
  {
   "cell_type": "markdown",
   "metadata": {},
   "source": [
    "# METODO DE LA SERIE DE TAYLOR\n",
    "Para resolver ecuaciones diferenciales. El desarrollo de la serie de taylor se usa para obtener puntos de la solucion a una distancia elegida, h, a partir de la condicion inicial conocida, y para estimar el error de truncamiento.\n",
    "Es decir vamos a utilizar la serie de taylor para hallar puntos que puedan sr la solucion y no una funcion como tal.\n",
    "Vamos a darle solucion al sistema de tipo y'(x)=f(x,y).   Y(x_0)=y_0.\n",
    "\n",
    "Esto sí tiene solucion exacta:  y' - y - x + x^2 - 1 = 0   solucion exacta: y(x) = e^x + x^2 + x\n",
    "¿Quién es f arriba?\n",
    "despejando y' tenemos:\n",
    "y' = y + x - x^2 + 1 = f\n",
    "\n",
    "f' = y' + 1 - 2x\n",
    "\n",
    "graficar los puntos para comprobar "
   ]
  },
  {
   "cell_type": "code",
   "execution_count": 44,
   "metadata": {},
   "outputs": [
    {
     "data": {
      "text/plain": [
       "<function matplotlib.pyplot.show(*args, **kw)>"
      ]
     },
     "execution_count": 44,
     "metadata": {},
     "output_type": "execute_result"
    },
    {
     "data": {
      "image/png": "[encoded data removed]",
      "text/plain": [
       "<Figure size 432x288 with 1 Axes>"
      ]
     },
     "metadata": {},
     "output_type": "display_data"
    }
   ],
   "source": [
    "import matplotlib.pyplot as plt\n",
    "import numpy as np\n",
    "import math\n",
    "\n",
    "\n",
    "def fun(x):\n",
    "    return np.exp(x)+x+x**2\n",
    "\n",
    "x = np.arange(0,1)\n",
    "\n",
    "plt.plot(x, fun(x),r'--',label=\"Sol.exacta\")\n",
    "plt.plot([0.1,0.2],[1.2152,1.4616],'ro',label=\"aproximaciones con taylor\")\n",
    "plt.legend()\n",
    "plt.show"
   ]
  },
  {
   "cell_type": "code",
   "execution_count": 41,
   "metadata": {},
   "outputs": [
    {
     "name": "stdout",
     "output_type": "stream",
     "text": [
      "[[0.1    1.21  ]\n",
      " [0.2    1.4515]\n",
      " [0.3    1.7257]\n",
      " [0.4    2.034 ]\n",
      " [0.5    2.3777]]\n"
     ]
    },
    {
     "data": {
      "image/png": "[encoded data removed]",
      "text/plain": [
       "<Figure size 432x288 with 1 Axes>"
      ]
     },
     "metadata": {},
     "output_type": "display_data"
    }
   ],
   "source": [
    "import numpy as np\n",
    "import pylab as pl\n",
    "def taylor3(f,df,x,y,h,m):\n",
    "    u=np.zeros([m,2])\n",
    "    for i in range(m):\n",
    "        y=y+h*f(x,y)+h**2/2*df(x,y)\n",
    "        x=x+h\n",
    "        u[i,0]=x\n",
    "        u[i,1]=y\n",
    "    return u\n",
    "np.set_printoptions(precision=4)\n",
    "\n",
    "def df(x,y):\n",
    "    return y-x**2+x+1\n",
    "\n",
    "u=taylor3(f,df,0,1,0.1,5)\n",
    "print(u)\n",
    "\n",
    "x=u[:,0]\n",
    "y=u[:,1]\n",
    "\n",
    "plt.plot(x,y,'o')\n",
    "pl.grid(True)\n",
    "pl.show()"
   ]
  },
  {
   "cell_type": "code",
   "execution_count": 46,
   "metadata": {},
   "outputs": [
    {
     "name": "stdout",
     "output_type": "stream",
     "text": [
      "\n",
      "x =  [0.  0.1 0.2 0.3 0.4 0.5]\n",
      "\n",
      "y =  [[1.    ]\n",
      " [1.2152]\n",
      " [1.4614]\n",
      " [1.7399]\n",
      " [2.0518]\n",
      " [2.3987]]\n"
     ]
    }
   ],
   "source": [
    "from numpy import*\n",
    "from scipy.integrate import odeint\n",
    "def f(y,x):\n",
    "    return y-x**2+x+1\n",
    "\n",
    "x=np.arange(0,0.6,0.1)\n",
    "y=odeint(f,1,x)\n",
    "\n",
    "print('\\nx = ',x)\n",
    "\n",
    "print('\\ny = ',y)\n",
    "\n"
   ]
  },
  {
   "cell_type": "code",
   "execution_count": null,
   "metadata": {},
   "outputs": [],
   "source": []
  }
 ],
 "metadata": {
  "kernelspec": {
   "display_name": "Python 3",
   "language": "python",
   "name": "python3"
  },
  "language_info": {
   "codemirror_mode": {
    "name": "ipython",
    "version": 3
   },
   "file_extension": ".py",
   "mimetype": "text/x-python",
   "name": "python",
   "nbconvert_exporter": "python",
   "pygments_lexer": "ipython3",
   "version": "3.6.5"
  }
 },
 "nbformat": 4,
 "nbformat_minor": 2
}
